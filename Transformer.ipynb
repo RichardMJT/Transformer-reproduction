{
 "cells": [
  {
   "cell_type": "code",
   "execution_count": 2,
   "metadata": {},
   "outputs": [],
   "source": [
    "import math\n",
    "import torch\n",
    "import numpy as np\n",
    "import torch.nn as nn\n",
    "import torch.optim as optim\n",
    "import torch.utils.data as Data"
   ]
  },
  {
   "cell_type": "code",
   "execution_count": 21,
   "metadata": {},
   "outputs": [],
   "source": [
    "# S: 表示解码输入开始的符号\n",
    "# E: 表示解码输出开始的符号\n",
    "# P: 如果当前批次数据长度小于时间步长时，用来填充空白序列的符号\n",
    "sentences = [\n",
    "        # enc_input           dec_input         dec_output\n",
    "        ['ich mochte ein bier P', 'S i want a beer .', 'i want a beer . E'],\n",
    "        ['ich mochte ein cola P', 'S i want a coke .', 'i want a coke . E']\n",
    "]\n",
    "\n",
    "# 填充应为零\n",
    "src_vocab = {'P' : 0, 'ich' : 1, 'mochte' : 2, 'ein' : 3, 'bier' : 4, 'cola' : 5}\n",
    "src_vocab_size = len(src_vocab)\n",
    "\n",
    "# 填充应为零\n",
    "src_vocab = {'P' : 0, 'ich' : 1, 'mochte' : 2, 'ein' : 3, 'bier' : 4, 'cola' : 5}\n",
    "src_vocab_size = len(src_vocab)\n",
    "\n",
    "tgt_vocab = {'P' : 0, 'i' : 1, 'want' : 2, 'a' : 3, 'beer' : 4, 'coke' : 5, 'S' : 6, 'E' : 7, '.' : 8}\n",
    "idx2word = {i: w for i, w in enumerate(tgt_vocab)}\n",
    "tgt_vocab_size = len(tgt_vocab)\n",
    "\n",
    "\n"
   ]
  },
  {
   "cell_type": "code",
   "execution_count": 34,
   "metadata": {},
   "outputs": [],
   "source": [
    "a = nn.Embedding(src_vocab_size, 512)"
   ]
  },
  {
   "cell_type": "code",
   "execution_count": null,
   "metadata": {},
   "outputs": [],
   "source": []
  },
  {
   "cell_type": "code",
   "execution_count": 3,
   "metadata": {},
   "outputs": [],
   "source": [
    "src_len = 5 # 编码输入的最大序列长度\n",
    "tgt_len = 6 # 解码输入(=解码输出)的最大序列长度\n",
    "\n",
    "# Transformer 参数\n",
    "d_model = 512  # 嵌入大小\n",
    "d_ff = 2048 # 前馈网络维度\n",
    "d_k = d_v = 64  # K(=Q), V的维度\n",
    "n_layers = 6  # 编码器或解码器的层数\n",
    "n_heads = 8  # 多头注意力中的头数"
   ]
  },
  {
   "cell_type": "code",
   "execution_count": 22,
   "metadata": {},
   "outputs": [],
   "source": [
    "def make_data(sentences):\n",
    "    enc_inputs, dec_inputs, dec_outputs = [], [], []\n",
    "    for i in range(len(sentences)):\n",
    "        enc_input = [[src_vocab[n] for n in sentences[i][0].split()]]\n",
    "        dec_input =  [[tgt_vocab[n] for n in sentences[i][1].split()]]\n",
    "        dec_output = [[tgt_vocab[n] for n in sentences[i][2].split()]]\n",
    "        \n",
    "        enc_inputs.append(enc_input)\n",
    "        dec_inputs.append(dec_input)\n",
    "        dec_outputs.append(dec_output)\n",
    "        \n",
    "    return torch.LongTensor(enc_inputs), torch.LongTensor(dec_inputs), torch.LongTensor(dec_inputs)"
   ]
  },
  {
   "cell_type": "code",
   "execution_count": 24,
   "metadata": {},
   "outputs": [],
   "source": [
    "enc_inputs, dec_inputs, dec_outputs  = make_data(sentences)"
   ]
  },
  {
   "cell_type": "code",
   "execution_count": 25,
   "metadata": {},
   "outputs": [],
   "source": [
    "class MyDataSet(Data.Dataset):\n",
    "    def __init__(self, enc_inputs, dec_inputs, dec_outputs):\n",
    "        self.enc_inputs = enc_inputs\n",
    "        self.dec_inputs = dec_inputs\n",
    "        self.dec_outputs =dec_outputs\n",
    "        \n",
    "    def __len__(self):\n",
    "        return self.enc_inputs.shape[0]\n",
    "    \n",
    "    def __getitem__(self, idx):\n",
    "        return self.enc_inputs[idx], self.dec_inputs[idx], self.dec_outputs[idx]\n",
    "loader = Data.DataLoader(MyDataSet(enc_inputs, dec_inputs, dec_outputs ), batch_size=2, shuffle=True)\n",
    "\n"
   ]
  },
  {
   "cell_type": "code",
   "execution_count": 26,
   "metadata": {},
   "outputs": [],
   "source": [
    "class PositionalEncoding(nn.Module):\n",
    "    '''\n",
    "    Positional Encoding类用于为输入序列添加位置编码。\n",
    "    '''\n",
    "    def __init__(self, d_model, dropout=0, max_len=5000):\n",
    "        '''\n",
    "        初始化Positional Encoding对象。\n",
    "\n",
    "        参数:\n",
    "            d_model (int): 嵌入向量的维度大小。\n",
    "            dropout (float): dropout概率，默认值为0。\n",
    "            max_len (int): 序列的最大长度，默认值为5000。\n",
    "        '''\n",
    "        super(PositionalEncoding, self).__init__()\n",
    "        self.dropout = nn.Dropout(p=dropout)\n",
    "\n",
    "        # 创建一个形状为[max_len, d_model]的零张量\n",
    "        pe = torch.zeros(max_len, d_model)\n",
    "        # 创建一个表示位置的张量，形状为[max_len, 1]\n",
    "        position = torch.arange(0, max_len, dtype=torch.float).unsqueeze(1)\n",
    "        # 创建一个除数项，用于计算正弦和余弦值，形状为[d_model/2]\n",
    "        div_term = torch.exp(torch.arange(0, d_model, 2).float() * (-math.log(10000.0) / d_model))\n",
    "        # 计算位置编码的正弦部分并填充到pe张量中\n",
    "        pe[:, 0::2] = torch.sin(position * div_term)\n",
    "        # 计算位置编码的余弦部分并填充到pe张量中\n",
    "        pe[:, 1::2] = torch.cos(position * div_term)\n",
    "        # 在第0维度上添加一个维度，并将张量转置，形状变为[1, max_len, d_model]\n",
    "        pe = pe.unsqueeze(0).transpose(0, 1)\n",
    "        # 将位置编码张量注册为模型的缓冲区，这样在模型保存和加载时，位置编码张量也会被保存和加载\n",
    "        self.register_buffer('pe', pe)\n",
    "\n",
    "    def forward(self, x):\n",
    "        '''\n",
    "        前向传播函数，用于将位置编码添加到输入序列的嵌入向量中。\n",
    "\n",
    "        参数:\n",
    "            x (Tensor): 输入序列的嵌入向量，维度为[seq_len, batch_size, d_model]。\n",
    "\n",
    "        返回:\n",
    "            Tensor: 添加了位置编码的嵌入向量。\n",
    "        '''\n",
    "        # 将位置编码张量添加到输入序列的嵌入向量中，并返回结果\n",
    "        x = x + self.pe[:x.size(0), :]\n",
    "        # 对结果进行dropout操作\n",
    "        return self.dropout(x)\n"
   ]
  },
  {
   "cell_type": "code",
   "execution_count": null,
   "metadata": {},
   "outputs": [],
   "source": [
    "a = nn.Embedding(src_vocab_size, 512)"
   ]
  },
  {
   "cell_type": "code",
   "execution_count": 27,
   "metadata": {},
   "outputs": [],
   "source": [
    "def get_attn_pad_mask(seq_q, seq_k):\n",
    "    '''\n",
    "    获取填充掩码的函数,填充掩码的作用是将用于处理用于填充序列长度的P\n",
    "\n",
    "    参数:\n",
    "        seq_q (Tensor): 查询序列，维度为[batch_size, seq_len]。\n",
    "        seq_k (Tensor): 键序列，维度为[batch_size, seq_len]。\n",
    "    \n",
    "    返回:\n",
    "        Tensor: 填充掩码，维度为[batch_size, len_q, len_k]。\n",
    "    '''\n",
    "    # 获取查询序列和键序列的形状\n",
    "    batch_size, len_q =seq_q.size()\n",
    "    batch_size, len_k =seq_k.size()\n",
    "    \n",
    "    # eq(zero) is PAD token\n",
    "    # 创建填充掩码，将seq_k中的零值位置设为True，形状为[batch_size, 1, len_k]\n",
    "    pad_attn_mask = seq_k.data.eq(0).unsqueeze(1)# [batch_size, 1, len_k], False is masked\n",
    "    \n",
    "    return pad_attn_mask.expand(batch_size, len_q, len_k)\n",
    "    \n",
    "    "
   ]
  },
  {
   "cell_type": "code",
   "execution_count": 32,
   "metadata": {},
   "outputs": [],
   "source": [
    "a = torch.rand((10,2))\n",
    "b = torch.rand((10,2))"
   ]
  },
  {
   "cell_type": "code",
   "execution_count": 34,
   "metadata": {},
   "outputs": [
    {
     "data": {
      "text/plain": [
       "tensor([[0.3707, 0.7805],\n",
       "        [0.3071, 0.6394],\n",
       "        [0.1127, 0.1164],\n",
       "        [0.2482, 0.0459],\n",
       "        [0.7505, 0.2949],\n",
       "        [0.2671, 0.4495],\n",
       "        [0.5754, 0.5310],\n",
       "        [0.3152, 0.0175],\n",
       "        [0.6638, 0.1781],\n",
       "        [0.4984, 0.0015]])"
      ]
     },
     "execution_count": 34,
     "metadata": {},
     "output_type": "execute_result"
    }
   ],
   "source": [
    "a"
   ]
  },
  {
   "cell_type": "code",
   "execution_count": 38,
   "metadata": {},
   "outputs": [],
   "source": [
    "def get_attn_subsequence_mask(seq):\n",
    "    '''\n",
    "    获取子序列掩码的函数。\n",
    "\n",
    "    参数:\n",
    "        seq (Tensor): 序列，维度为[batch_size, tgt_len]。\n",
    "    \n",
    "    返回:\n",
    "        Tensor: 子序列掩码，维度为[batch_size, tgt_len, tgt_len]。\n",
    "    '''\n",
    "    # 获取输入序列的形状\n",
    "    attn_shape = [seq.size(0), seq.size(1), seq.size(1)]\n",
    "    # 创建一个上三角矩阵，形状为[batch_size, tgt_len, tgt_len]\n",
    "    subsequence_mask = np.triu(np.ones(attn_shape), k=1)\n",
    "    # 将NumPy数组转换为PyTorch张量，并设定数据类型为byte\n",
    "    subsequence_mask = torch.from_numpy(subsequence_mask).byte()\n",
    "    # 返回子序列掩码张量\n",
    "    return subsequence_mask # [batch_size, tgt_len, tgt_len]\n",
    "    \n",
    "        "
   ]
  },
  {
   "cell_type": "code",
   "execution_count": null,
   "metadata": {},
   "outputs": [],
   "source": [
    "#测试子序列掩码函数\n",
    "b = torch.ones((10,5))\n",
    "a = get_attn_subsequence_mask(b)\n",
    "a"
   ]
  },
  {
   "cell_type": "code",
   "execution_count": 44,
   "metadata": {},
   "outputs": [
    {
     "data": {
      "text/plain": [
       "tensor([[[0, 1, 1],\n",
       "         [0, 0, 1],\n",
       "         [0, 0, 0]],\n",
       "\n",
       "        [[0, 1, 1],\n",
       "         [0, 0, 1],\n",
       "         [0, 0, 0]],\n",
       "\n",
       "        [[0, 1, 1],\n",
       "         [0, 0, 1],\n",
       "         [0, 0, 0]]], dtype=torch.uint8)"
      ]
     },
     "execution_count": 44,
     "metadata": {},
     "output_type": "execute_result"
    }
   ],
   "source": [
    "\n",
    "torch.from_numpy(np.triu(np.ones((3,3,3)), k=1)).byte()\n",
    "    "
   ]
  },
  {
   "cell_type": "code",
   "execution_count": 4,
   "metadata": {},
   "outputs": [],
   "source": [
    "class ScaledDotProductAttention(nn.Module):\n",
    "    '''\n",
    "    缩放点积注意力机制。\n",
    "    '''\n",
    "    def __init__(self):\n",
    "        '''\n",
    "        初始化缩放点积注意力机制。\n",
    "        '''\n",
    "        super(ScaledDotProductAttention, self).__init__()\n",
    "    def forward(self, Q,K,V, atten_mask):\n",
    "        '''\n",
    "        计算缩放点积注意力机制的前向传播。\n",
    "\n",
    "        参数:\n",
    "            Q (Tensor): 查询张量，形状为[batch_size, n_heads, len_q, d_k]。\n",
    "            K (Tensor): 键张量，形状为[batch_size, n_heads, len_k, d_k]。\n",
    "            V (Tensor): 值张量，形状为[batch_size, n_heads, len_v(=len_k), d_v]。\n",
    "            attn_mask (Tensor): 注意力掩码张量，形状为[batch_size, n_heads, seq_len, seq_len]。\n",
    "\n",
    "        返回:\n",
    "            Tensor: 上下文张量，形状为[batch_size, n_heads, len_q, d_v]。\n",
    "            Tensor: 注意力张量，形状为[batch_size, n_heads, len_q, len_k]。\n",
    "        '''\n",
    "        # 计算注意力分数，scores : [batch_size, n_heads, len_q, len_k]\n",
    "        scores = torch.matmul(Q, K.transpose(-1,-2))/np.sqrt(d_k) #批次矩阵乘法,对每个批次中的对应样本执行矩阵乘法\n",
    "        #对注意力分数应用注意力掩码,，scores 是一个注意力分数张量，atten_mask 是一个与 scores 具有相同形状的掩码张量。\n",
    "        scores.masked_fill(atten_mask, -1e9)\n",
    "        #计算注意力权重\n",
    "        attn = nn.Softmax(dim=-1)(scores)\n",
    "        #计算上下文权重\n",
    "        context = torch.matmul(attn,V) # [batch_size, n_heads, len_q, d_v]\n",
    "        return context, attn"
   ]
  },
  {
   "cell_type": "code",
   "execution_count": 14,
   "metadata": {},
   "outputs": [
    {
     "data": {
      "text/plain": [
       "torch.Size([10, 8, 5, 64])"
      ]
     },
     "execution_count": 14,
     "metadata": {},
     "output_type": "execute_result"
    }
   ],
   "source": [
    "Q = torch.ones(10,8,5,64)\n",
    "K =torch.ones(10,8,5,64)\n",
    "V =  torch.ones(10,8,5,64)\n",
    "attn_mask = torch.ones(10,8,5,5)\n",
    "a = ScaledDotProductAttention()\n",
    "q,w = a(Q,K,V,attn_mask == 1)\n",
    "q.shape"
   ]
  },
  {
   "cell_type": "code",
   "execution_count": 82,
   "metadata": {},
   "outputs": [],
   "source": [
    "class MultiHeadAttention(nn.Module):\n",
    "    '''\n",
    "    多头注意力机制。\n",
    "    '''\n",
    "    def __init__(self):\n",
    "        '''\n",
    "        初始化多头注意力机制。\n",
    "        '''\n",
    "        super(MultiHeadAttention, self).__init__()\n",
    "        #查询张量线性变换层\n",
    "        self.W_Q = nn.Linear(d_model, d_k*n_heads, bias=False)\n",
    "        #键张量线性变换层\n",
    "        self.W_K = nn.Linear(d_model, d_k*n_heads, bias=False)\n",
    "         # 值张量线性变换层\n",
    "        self.W_V = nn.Linear(d_model, d_v * n_heads, bias=False)\n",
    "        #全连接层\n",
    "        self.fc = nn.Linear(n_heads * d_v, d_model, bias=False)\n",
    "        \n",
    "        \n",
    "    def forward(self, input_Q, input_K, input_V, attn_mask):\n",
    "        '''\n",
    "        多头注意力机制的前向传播。\n",
    "\n",
    "        参数:\n",
    "            input_Q (Tensor): 查询输入张量，形状为[batch_size, len_q, d_model]。\n",
    "            input_K (Tensor): 键输入张量，形状为[batch_size, len_k, d_model]。\n",
    "            input_V (Tensor): 值输入张量，形状为[batch_size, len_v(=len_k), d_model]。\n",
    "            attn_mask (Tensor): 注意力掩码张量，形状为[batch_size, seq_len, seq_len]。\n",
    "\n",
    "        返回:\n",
    "            Tensor: 多头注意力机制输出张量，形状为[batch_size, len_q, d_model]。\n",
    "            Tensor: 注意力张量，形状为[batch_size, n_heads, len_q, len_k]。\n",
    "        '''\n",
    "        # 保存残差张量\n",
    "        residual, batch_size = input_Q, input_Q.size(0)\n",
    "        Q = self.W_Q(input_Q).view(batch_size, -1, n_heads, d_k).transpose(1,2)\n",
    "        K = self.W_K(input_K).view(batch_size, -1, n_heads, d_k).transpose(1,2)  # K: [batch_size, n_heads, len_k, d_k]\n",
    "        V = self.W_V(input_V).view(batch_size, -1, n_heads, d_v).transpose(1,2)  # V: [batch_size, n_heads, len_v(=len_k), d_v]\n",
    "        \n",
    "        #将注意力掩码张量进行扩展\n",
    "        \n",
    "        attn_mask = attn_mask.unsqueeze(1).repeat(1,n_heads,1,1)# attn_mask : [batch_size, n_heads, seq_len, seq_len]\n",
    "        #调用缩放点积注意力机制进行计算\n",
    "        context, attn = ScaledDotProductAttention()(Q, K, V, attn_mask)\n",
    "        #将张量形状进行调整\n",
    "        context = context.transpose(1,2).reshape(batch_size, -1, n_heads * d_v)\n",
    "        #将上下文张量通过全连接层进行映射\n",
    "        output = self.fc(context)  # [batch_size, len_q, d_model]\n",
    "        \n",
    "        #返回加上残差张量的结果，并进行LayerNorm处理\n",
    "        return nn.LayerNorm(d_model)(output + residual), attn\n",
    "        "
   ]
  },
  {
   "cell_type": "code",
   "execution_count": null,
   "metadata": {},
   "outputs": [],
   "source": [
    "attn_mask = torch.ones(10,5,5)\n",
    "attn_mask = attn_mask.unsqueeze(1).repeat(1,n_heads,1,1)\n",
    "attn_mask"
   ]
  },
  {
   "cell_type": "code",
   "execution_count": null,
   "metadata": {},
   "outputs": [],
   "source": [
    "#测试多头注意力机制\n",
    "Q = torch.ones(10,5,512)\n",
    "K =torch.ones(10,5,512)\n",
    "V =  torch.ones(10,5,512)\n",
    "attn_mask = torch.ones(10,5,5)\n",
    "a = MultiHeadAttention()\n",
    "q,w = a(Q,K,V,attn_mask ==1)\n",
    "q.shape"
   ]
  },
  {
   "cell_type": "code",
   "execution_count": 6,
   "metadata": {},
   "outputs": [],
   "source": [
    "class PoswiseFeedForwardNet(nn.Module):\n",
    "    '''\n",
    "    位置前馈网络。\n",
    "    '''\n",
    "    def __init__(self):\n",
    "        super(PoswiseFeedForwardNet, self).__init__()\n",
    "        #全连接层序列\n",
    "        self.fc = nn.Sequential(\n",
    "            nn.Linear(d_model, d_ff, bias=False),\n",
    "            nn.ReLU(),\n",
    "            nn.Linear(d_ff, d_model, bias=False)\n",
    "        )\n",
    "    def forward(self, inputs):\n",
    "        '''\n",
    "        位置前馈网络的前向传播。\n",
    "\n",
    "        参数:\n",
    "            inputs (Tensor): 输入张量，形状为[batch_size, seq_len, d_model]。\n",
    "\n",
    "        返回:\n",
    "            Tensor: 经过位置前馈网络后的张量，形状为[batch_size, seq_len, d_model]。\n",
    "        '''\n",
    "        #保存残差张量\n",
    "        residual = inputs \n",
    "        #经过全连接层序列处理\n",
    "        output = self.fc(inputs)\n",
    "        #返回加上残差张量的结果，并进行LayerNorm处理\n",
    "        return nn.LayerNorm(d_model)(output + residual) # [batch_size, seq_len, d_model]"
   ]
  },
  {
   "cell_type": "code",
   "execution_count": 36,
   "metadata": {},
   "outputs": [
    {
     "data": {
      "text/plain": [
       "torch.Size([10, 5, 512])"
      ]
     },
     "execution_count": 36,
     "metadata": {},
     "output_type": "execute_result"
    }
   ],
   "source": [
    "#测试前馈神经网络\n",
    "i = torch.ones(10,5,512)\n",
    "\n",
    "a  = PoswiseFeedForwardNet()\n",
    "a(i).shape\n"
   ]
  },
  {
   "cell_type": "code",
   "execution_count": 83,
   "metadata": {},
   "outputs": [],
   "source": [
    "class  EncoderLayer(nn.Module):\n",
    "    '''\n",
    "    编码器层。\n",
    "    '''\n",
    "    def __init__(self):\n",
    "        '''\n",
    "        初始化编码器层。\n",
    "        '''\n",
    "        super(EncoderLayer, self).__init__()\n",
    "        #编码器自注意力机制\n",
    "        self.enc_self_attn = MultiHeadAttention()\n",
    "        #位置前馈网络\n",
    "        self.pos_ffn = PoswiseFeedForwardNet()\n",
    "    def forward(self, enc_inputs, enc_self_attn_mask):\n",
    "        '''\n",
    "        编码器层的前向传播。\n",
    "\n",
    "        参数:\n",
    "            enc_inputs (Tensor): 编码器输入张量，形状为[batch_size, src_len, d_model]。\n",
    "            enc_self_attn_mask (Tensor): 编码器自注意力机制掩码张量，形状为[batch_size, src_len, src_len]。\n",
    "\n",
    "        返回:\n",
    "            Tensor: 编码器输出张量，形状为[batch_size, src_len, d_model]。\n",
    "            Tensor: 注意力张量，形状为[batch_size, n_heads, src_len, src_len]。\n",
    "        '''\n",
    "        #使用编码器自注意力机制计算编码器输出张量和注意力张量\n",
    "        #输入的分别是xQ, Xk, Xv, 掩码矩阵\n",
    "        \n",
    "        enc_outputs, attn = self.enc_self_attn(enc_inputs, enc_inputs, enc_inputs,enc_self_attn_mask)\n",
    "        #经过位置前馈网络处理\n",
    "        enc_outputs = self.pos_ffn(enc_outputs) # enc_outputs: [batch_size, src_len, d_model]\n",
    "        return enc_outputs, attn\n",
    "        "
   ]
  },
  {
   "cell_type": "code",
   "execution_count": 13,
   "metadata": {},
   "outputs": [
    {
     "data": {
      "text/plain": [
       "torch.Size([10, 5, 512])"
      ]
     },
     "execution_count": 13,
     "metadata": {},
     "output_type": "execute_result"
    }
   ],
   "source": [
    "#测试编码器层\n",
    "enc_i = torch.ones(10,5,512)\n",
    "enc_s = torch.ones(10,5,5)\n",
    "a = EncoderLayer()\n",
    "b0 ,b1 = a(enc_i,enc_s==1)\n",
    "b0.shape"
   ]
  },
  {
   "cell_type": "code",
   "execution_count": 85,
   "metadata": {},
   "outputs": [],
   "source": [
    "class DecoderLayer(nn.Module):\n",
    "    '''\n",
    "    解码器层。\n",
    "    '''\n",
    "    def __init__(self):\n",
    "        '''\n",
    "        初始化解码器层。\n",
    "        '''\n",
    "        super(DecoderLayer, self).__init__()\n",
    "        # 解码器自注意力机制\n",
    "        self.dec_self_attn = MultiHeadAttention()\n",
    "        #编码器-解码器注意力机制\n",
    "        self.dec_enc_attn = MultiHeadAttention()\n",
    "        # 位置前馈网络\n",
    "        self.pos_ffn = PoswiseFeedForwardNet()\n",
    "    def forward(self, dec_inputs, enc_outputs, dec_self_attn_mask, dec_enc_attn_mask):\n",
    "        '''\n",
    "        解码器层的前向传播。\n",
    "\n",
    "        参数:\n",
    "            dec_inputs (Tensor): 解码器输入张量，形状为[batch_size, tgt_len, d_model]。\n",
    "            enc_outputs (Tensor): 编码器输出张量，形状为[batch_size, src_len, d_model]。\n",
    "            dec_self_attn_mask (Tensor): 解码器自注意力机制掩码张量，形状为[batch_size, tgt_len, tgt_len]。\n",
    "            dec_enc_attn_mask (Tensor): 编码器-解码器注意力机制掩码张量，形状为[batch_size, tgt_len, src_len]。\n",
    "\n",
    "        返回:\n",
    "            Tensor: 解码器输出张量，形状为[batch_size, tgt_len, d_model]。\n",
    "            Tensor: 解码器自注意力张量，形状为[batch_size, n_heads, tgt_len, tgt_len]。\n",
    "            Tensor: 编码器-解码器注意力张量，形状为[batch_size, n_heads, tgt_len, src_len]。\n",
    "        '''\n",
    "        #使用解码器自注意力机制计算解码器第一层输出张量和解码器第一层自注意力张量\n",
    "        \n",
    "        dec_outputs, dec_self_attn = self.dec_self_attn(dec_inputs, dec_inputs, dec_inputs, dec_self_attn_mask)\n",
    "        #使用编码器-解码器注意力机制计算解码器第一层输出张量编码器-解码器注意力张量（分别提供v和q,k)\n",
    "        dec_outputs, dec_enc_attn = self.dec_enc_attn(dec_outputs,  enc_outputs, enc_outputs, dec_enc_attn_mask)\n",
    "        #经过位置前馈网络处理\n",
    "        dec_outputs = self.pos_ffn(dec_outputs)# [batch_size, tgt_len, d_model]\n",
    "        return dec_outputs, dec_self_attn, dec_enc_attn\n",
    "        \n",
    "        "
   ]
  },
  {
   "cell_type": "code",
   "execution_count": 87,
   "metadata": {},
   "outputs": [
    {
     "data": {
      "text/plain": [
       "torch.Size([10, 5, 512])"
      ]
     },
     "execution_count": 87,
     "metadata": {},
     "output_type": "execute_result"
    }
   ],
   "source": [
    "#测试解码器层\n",
    "enc_i = torch.ones(10,5,512)\n",
    "enc_s = torch.ones(10,5,5)\n",
    "a = DecoderLayer()\n",
    "b0 ,b1,b2 = a(enc_i,enc_i,enc_s==1,enc_s==1)\n",
    "b0.shape\n"
   ]
  },
  {
   "cell_type": "code",
   "execution_count": 30,
   "metadata": {},
   "outputs": [],
   "source": [
    "class Encoder(nn.Module):\n",
    "    '''\n",
    "    编码器模块。\n",
    "    '''\n",
    "    def __init__(self):\n",
    "        '''\n",
    "        初始化编码器。\n",
    "        '''\n",
    "        super(Encoder, self).__init__()\n",
    "        #源语言词嵌入层\n",
    "        self.src_emb = nn.Embedding(src_vocab_size, d_model)\n",
    "        #位置编码层\n",
    "        self.pos_emb = PositionalEncoding(d_model)\n",
    "        #编码器层列表\n",
    "        self.layers = nn.ModuleList([EncoderLayer() for _ in range(n_layers)])\n",
    "    def forward(self, enc_inputs):\n",
    "        '''\n",
    "        编码器的前向传播。\n",
    "\n",
    "        参数:\n",
    "            enc_inputs (Tensor): 编码器输入张量，形状为[batch_size, src_len]。\n",
    "\n",
    "        返回:\n",
    "            Tensor: 编码器输出张量，形状为[batch_size, src_len, d_model]。\n",
    "            List: 编码器自注意力张量列表。\n",
    "        '''\n",
    "        #源语言词嵌入\n",
    "        enc_outputs = self.src_emb(enc_inputs) # [batch_size, src_len, d_model]\n",
    "        #加入位置编码\n",
    "        enc_outputs = self.pos_emb(enc_outputs.transpose(0,1)).transpose(0,1)# [batch_size, src_len, d_model]\n",
    "        #获取编码器自注意力掩码\n",
    "        enc_self_attn_mask = get_attn_pad_mask(enc_inputs, enc_inputs) # [batch_size, src_len, src_len]\n",
    "        #编码器自注意力机制\n",
    "        enc_self_attns = []\n",
    "        for layer in self.layers:\n",
    "            #编码器层前向传播\n",
    "            enc_outputs, enc_self_attn = layer(enc_outputs, enc_self_attn_mask)\n",
    "            enc_self_attns.append(enc_self_attn)\n",
    "        return enc_outputs, enc_self_attns"
   ]
  },
  {
   "cell_type": "code",
   "execution_count": 37,
   "metadata": {},
   "outputs": [
    {
     "data": {
      "text/plain": [
       "torch.Size([10, 5, 512])"
      ]
     },
     "execution_count": 37,
     "metadata": {},
     "output_type": "execute_result"
    }
   ],
   "source": [
    "#编码器测试\n",
    "s = torch.ones((10,5)).type(torch.LongTensor)\n",
    "a = Encoder()\n",
    "b0,b1 = a(s)\n",
    "b0.shape"
   ]
  },
  {
   "cell_type": "code",
   "execution_count": 75,
   "metadata": {},
   "outputs": [],
   "source": [
    "class Decoder(nn.Module):\n",
    "    '''\n",
    "    解码器模块。\n",
    "    '''\n",
    "    def __init__(self):\n",
    "        '''\n",
    "        初始化解码器。\n",
    "        '''\n",
    "        super(Decoder, self).__init__()\n",
    "        #目标语言嵌入层\n",
    "        self.tgt_emb = nn.Embedding(tgt_vocab_size, d_model)\n",
    "        #位置编码层\n",
    "        self.pos_emb = PositionalEncoding(d_model)\n",
    "        #解码器层列表\n",
    "        self.layers =  nn.ModuleList([DecoderLayer() for _ in range(n_layers)])\n",
    "    def forward(self, dec_inputs, enc_inputs, enc_outputs):\n",
    "        '''\n",
    "        解码器的前向传播。\n",
    "\n",
    "        参数:\n",
    "            dec_inputs (Tensor): 解码器输入张量，形状为[batch_size, tgt_len]。\n",
    "            enc_inputs (Tensor): 编码器输入张量，形状为[batch_size, src_len]。\n",
    "            enc_outputs (Tensor): 编码器输出张量，形状为[batch_size, src_len, d_model]。\n",
    "\n",
    "        返回:\n",
    "            Tensor: 解码器输出张量，形状为[batch_size, tgt_len, d_model]。\n",
    "            List: 解码器自注意力张量列表。\n",
    "            List: 编码器-解码器注意力张量列表。\n",
    "        '''\n",
    "        #目标语言词嵌入\n",
    "        dec_outputs = self.tgt_emb(dec_inputs) # [batch_size, tgt_len, d_model]\n",
    "        #加入位置编码\n",
    "        dec_outputs = self.pos_emb(dec_outputs.transpose(0,1)).transpose(0,1) # [batch_size, tgt_len, d_model]\n",
    "        #获取解码器自注意力掩码\n",
    "        dec_self_attn_pad_mask = get_attn_pad_mask(dec_inputs, dec_inputs) # [batch_size, tgt_len, tgt_len]\n",
    "        dec_self_attn_subsequence_mask = get_attn_subsequence_mask(dec_inputs) # [batch_size, tgt_len, tgt_len]\n",
    "        dec_self_attn_mask = torch.gt((dec_self_attn_pad_mask + dec_self_attn_subsequence_mask), 0) # [batch_size, tgt_len, tgt_len]\n",
    "        #获取编码器-解码器注意力掩码\n",
    "        dec_enc_attn_mask = get_attn_pad_mask(dec_inputs, enc_inputs) # [batc_size, tgt_len, src_len]\n",
    "        #解码器子注意力机制和编码器-解码器自注意力机制\n",
    "        dec_self_attns, dec_enc_attns = [], [] \n",
    "        for layer in self.layers:\n",
    "            #解码器层前向传播\n",
    "            dec_outputs, dec_self_attn, dec_enc_attn = layer(dec_outputs, enc_outputs, dec_self_attn_mask, dec_enc_attn_mask)\n",
    "            dec_self_attns.append(dec_self_attn)\n",
    "            dec_enc_attns.append(dec_enc_attn)\n",
    "        return dec_outputs, dec_self_attns, dec_enc_attns\n",
    "        \n",
    "        "
   ]
  },
  {
   "cell_type": "code",
   "execution_count": 88,
   "metadata": {},
   "outputs": [
    {
     "data": {
      "text/plain": [
       "torch.Size([10, 5, 512])"
      ]
     },
     "execution_count": 88,
     "metadata": {},
     "output_type": "execute_result"
    }
   ],
   "source": [
    "#解码器层测试\n",
    "\n",
    "s = torch.ones((10,5))\n",
    "s0 = s.type(torch.LongTensor)\n",
    "e = torch.ones((10,5, 512))\n",
    "a = Decoder()\n",
    "b0,b1,b2 = a(s0,s0,e)\n",
    "b0.shape"
   ]
  },
  {
   "cell_type": "code",
   "execution_count": 92,
   "metadata": {},
   "outputs": [],
   "source": [
    "class Transformer(nn.Module):\n",
    "    '''\n",
    "    Transformer模型。\n",
    "    '''\n",
    "    def __init__(self):\n",
    "        super(Transformer, self).__init__()\n",
    "        #编码器\n",
    "        self.encoder = Encoder()\n",
    "        #解码器\n",
    "        self.decoder = Decoder()\n",
    "        #线性层\n",
    "        self.projection = nn.Linear(d_model, tgt_vocab_size, bias=False)\n",
    "    def forward(self, enc_inputs, dec_inputs):\n",
    "        '''\n",
    "        Transformer的前向传播。\n",
    "\n",
    "        参数:\n",
    "            enc_inputs (Tensor): 编码器输入张量，形状为[batch_size, src_len]。\n",
    "            dec_inputs (Tensor): 解码器输入张量，形状为[batch_size, tgt_len]。\n",
    "\n",
    "        返回:\n",
    "            Tensor: 解码器输出张量，形状为[batch_size * tgt_len, tgt_vocab_size]。\n",
    "            List: 编码器自注意力张量列表。\n",
    "            List: 解码器自注意力张量列表。\n",
    "            List: 编码器-解码器注意力张量列表。\n",
    "        '''\n",
    "        #编码器和解码器的前向传播\n",
    "        enc_outputs, enc_self_attns = self.encoder(enc_inputs)\n",
    "        dec_outputs, dec_self_attns, dec_enc_attns = self.decoder(dec_inputs, enc_inputs, enc_outputs)\n",
    "        #输出投影层\n",
    "        dec_logits = self.projection(dec_outputs) # dec_logits: [batch_size, tgt_len, tgt_vocab_size]\n",
    "        #将解码器输出张量展平为二维张量\n",
    "        return dec_logits.view(-1,  dec_logits.size(-1)), enc_self_attns, dec_self_attns, dec_enc_attns"
   ]
  },
  {
   "cell_type": "code",
   "execution_count": 93,
   "metadata": {},
   "outputs": [
    {
     "data": {
      "text/plain": [
       "torch.Size([50, 9])"
      ]
     },
     "execution_count": 93,
     "metadata": {},
     "output_type": "execute_result"
    }
   ],
   "source": [
    "#transformer测试\n",
    "b = torch.ones((10,5)).type(torch.LongTensor)\n",
    "\n",
    "a = Transformer()\n",
    "b0, b1, b2,b3 = a(b,b)\n",
    "\n",
    "b0.shape"
   ]
  },
  {
   "cell_type": "code",
   "execution_count": 94,
   "metadata": {},
   "outputs": [],
   "source": [
    "# 创建Transformer模型、损失函数和优化器\n",
    "model = Transformer()\n",
    "criterion = nn.CrossEntropyLoss(ignore_index=0)\n",
    "optimizer = optim.SGD(model.parameters(), lr=1e-3, momentum=0.99)"
   ]
  },
  {
   "cell_type": "code",
   "execution_count": null,
   "metadata": {},
   "outputs": [],
   "source": []
  }
 ],
 "metadata": {
  "kernelspec": {
   "display_name": "pytorchcpu",
   "language": "python",
   "name": "python3"
  },
  "language_info": {
   "codemirror_mode": {
    "name": "ipython",
    "version": 3
   },
   "file_extension": ".py",
   "mimetype": "text/x-python",
   "name": "python",
   "nbconvert_exporter": "python",
   "pygments_lexer": "ipython3",
   "version": "3.12.1"
  }
 },
 "nbformat": 4,
 "nbformat_minor": 2
}
